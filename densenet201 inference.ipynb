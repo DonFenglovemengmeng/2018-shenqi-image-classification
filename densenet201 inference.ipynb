{
 "cells": [
  {
   "cell_type": "code",
   "execution_count": null,
   "metadata": {
    "_cell_guid": "b1076dfc-b9ad-4769-8c92-a6c4dae69d19",
    "_uuid": "8f2839f25d086af736a60e9eeb907d3b93b6e0e5"
   },
   "outputs": [],
   "source": [
    "import os\n",
    "from PIL import Image\n",
    "\n",
    "import numpy as np\n",
    "import pandas as pd\n",
    "import matplotlib.pyplot as plt\n",
    "\n",
    "import torch\n",
    "from torchvision import transforms\n",
    "from torch.utils.data import DataLoader, Dataset\n",
    "import torchvision.models as models\n",
    "import torch.nn as nn\n",
    "import torch.nn.functional as F\n",
    "import torch.optim as optim\n",
    "from torch.autograd import Variable\n",
    "\n",
    "from sklearn.model_selection import train_test_split\n",
    "from tqdm import tqdm\n",
    "\n",
    "class MyDataset(Dataset):\n",
    "    def __init__(self, csv_path, data_dir = './', transform=None):\n",
    "        super().__init__()\n",
    "        self.df = pd.read_csv(csv_path).values\n",
    "        self.data_dir = data_dir\n",
    "        self.transform = transform\n",
    "\n",
    "    def __len__(self):\n",
    "        return len(self.df)\n",
    "    \n",
    "    def __getitem__(self, index):\n",
    "        img_name, label = self.df[index]\n",
    "        img_path = os.path.join(self.data_dir, img_name)\n",
    "        with Image.open(img_path) as img:\n",
    "            image = img.convert('RGB')\n",
    "        if self.transform is not None:\n",
    "            image = self.transform(image)\n",
    "        return image, label-1"
   ]
  },
  {
   "cell_type": "code",
   "execution_count": null,
   "metadata": {
    "_cell_guid": "79c7e3d0-c299-4dcb-8224-4455121ee9b0",
    "_uuid": "d629ff2d2480ee46fbb7e2d37f6b5fab8052498a"
   },
   "outputs": [],
   "source": [
    "use_gpu = True\n",
    "num_classes = 5\n",
    "num_epochs = 30\n",
    "early_stopping = 10\n",
    "model = models.densenet201(pretrained=True)"
   ]
  },
  {
   "cell_type": "code",
   "execution_count": null,
   "metadata": {
    "_uuid": "7b2c3158bd1fe4c5256a9034c924e5fab75a8066"
   },
   "outputs": [],
   "source": [
    "for para in list(model.parameters()):\n",
    "    para.requires_grad=False\n",
    "for para in list(model.features.denseblock3.parameters()):\n",
    "    para.requires_grad=True\n",
    "for para in list(model.features.transition3.parameters()):\n",
    "    para.requires_grad=True\n",
    "for para in list(model.features.denseblock4.parameters()):\n",
    "    para.requires_grad=True\n",
    "for para in list(model.features.norm5.parameters()):\n",
    "    para.requires_grad=True"
   ]
  },
  {
   "cell_type": "code",
   "execution_count": null,
   "metadata": {
    "_uuid": "d4ad2576cde99172852737375f10051baf838218"
   },
   "outputs": [],
   "source": [
    "model.classifier = nn.Sequential(\n",
    "    nn.Dropout(0.2),\n",
    "    nn.Linear(1920, num_classes)\n",
    ")"
   ]
  },
  {
   "cell_type": "code",
   "execution_count": null,
   "metadata": {
    "_uuid": "857a846f298bee2a449ccda1d45dee4146818370"
   },
   "outputs": [],
   "source": [
    "if use_gpu:\n",
    "    model = model.cuda()"
   ]
  },
  {
   "cell_type": "code",
   "execution_count": null,
   "metadata": {
    "_uuid": "8ede986a0c43718248f8cecbc874046d557e3a94"
   },
   "outputs": [],
   "source": [
    "model.load_state_dict(torch.load('../input/finetune-densnet201/tuned-densenet201.pth'))"
   ]
  },
  {
   "cell_type": "code",
   "execution_count": null,
   "metadata": {
    "_uuid": "9b505a65c9cc7da44ad7b7f615764225f22de132"
   },
   "outputs": [],
   "source": [
    "trans_valid = transforms.Compose([transforms.Resize(size=256),\n",
    "                            transforms.CenterCrop(size=224),\n",
    "                            transforms.ToTensor(),\n",
    "                            transforms.Normalize(mean=[0.485, 0.456, 0.406],\n",
    "                                 std=[0.229, 0.224, 0.225])])\n",
    "\n",
    "dataset_valid = MyDataset(csv_path='../input/finetune-densnet201/df_valid.csv', \n",
    "    data_dir='../input/shenqi/train/data/', transform=trans_valid)\n",
    "\n",
    "loader_valid = DataLoader(dataset = dataset_valid, batch_size=32, shuffle=False, num_workers=0)"
   ]
  },
  {
   "cell_type": "code",
   "execution_count": null,
   "metadata": {
    "_uuid": "6042a38a2265a09aa6495ebc2d7d084107c4042b"
   },
   "outputs": [],
   "source": [
    "def get_prediction(model, loader, valid=False):\n",
    "    prediction = np.array([])\n",
    "    model.eval()\n",
    "    for _, data in enumerate(loader):\n",
    "        if valid:\n",
    "            inputs,_ = data\n",
    "        else:\n",
    "            inputs = data\n",
    "        print('.', end='')\n",
    "        if use_gpu:\n",
    "            inputs = inputs.cuda()\n",
    "        outputs = model(inputs)\n",
    "        pred = torch.argmax(outputs.data, dim=1)\n",
    "        prediction = np.append(prediction, pred.cpu().numpy())\n",
    "    return prediction"
   ]
  },
  {
   "cell_type": "code",
   "execution_count": null,
   "metadata": {
    "_uuid": "0ac2c907155156936f362fa12e93856bf3efa1ed",
    "scrolled": true
   },
   "outputs": [],
   "source": [
    "val_prediction = get_prediction(model, loader_valid, True)\n",
    "val_true = pd.read_csv('../input/finetune-densnet201/df_valid.csv')[' type'].values-1"
   ]
  },
  {
   "cell_type": "code",
   "execution_count": null,
   "metadata": {
    "_uuid": "1d541975ae5b45f42450f0c3f6881f35d5e1e7d5"
   },
   "outputs": [],
   "source": [
    "val_acc = np.mean(val_prediction==val_true)\n",
    "from sklearn.metrics import f1_score\n",
    "val_f1 = 0\n",
    "for i in range(5):\n",
    "    val_f1 += f1_score(val_prediction==i, val_true==i)\n",
    "val_f1 = val_f1/5\n",
    "print('val acc: %.6f, val f1: %.6f' % (val_acc, val_f1))"
   ]
  },
  {
   "cell_type": "code",
   "execution_count": null,
   "metadata": {
    "_uuid": "596fe945d4054116b5ffefea2506695ae964df58"
   },
   "outputs": [],
   "source": [
    "import cv2\n",
    "\n",
    "class TestDataset(Dataset):\n",
    "    def __init__(self, data_dir = './', transform=None):\n",
    "        super().__init__()\n",
    "        self.data_dir = data_dir\n",
    "        self.transform = transform\n",
    "        self.image_names = os.listdir(data_dir)\n",
    "        \n",
    "    def __len__(self):\n",
    "        return len(self.image_names)\n",
    "    \n",
    "    def __getitem__(self, index):\n",
    "        img_name = self.image_names[index]\n",
    "        img_path = os.path.join(self.data_dir, img_name)\n",
    "        try:\n",
    "            img = Image.open(img_path)\n",
    "        except OSError:\n",
    "            print('read with cv2')\n",
    "            img = Image.fromarray(cv2.imread(img_path))\n",
    "        image = img.convert('RGB')\n",
    "        if self.transform is not None:\n",
    "            image = self.transform(image)\n",
    "        return image\n",
    "\n",
    "dataset_test = TestDataset(data_dir='../input/shenqi/test/', transform=trans_valid)\n",
    "loader_test = DataLoader(dataset = dataset_test, batch_size=32, shuffle=False, num_workers=0)"
   ]
  },
  {
   "cell_type": "code",
   "execution_count": null,
   "metadata": {
    "_uuid": "f39fe4ec2d8d09ad4bd5f44513d640305a526737",
    "scrolled": true
   },
   "outputs": [],
   "source": [
    "test_prediction = get_prediction(model, loader_test)"
   ]
  },
  {
   "cell_type": "code",
   "execution_count": null,
   "metadata": {
    "_uuid": "766fbbffb7da383e1c71ec89f14d16f9b1b439f4"
   },
   "outputs": [],
   "source": [
    "sub = pd.DataFrame(list(zip(dataset_test.image_names,test_prediction.astype(int)+1)),\n",
    "                   columns=['filename', ' type'])"
   ]
  },
  {
   "cell_type": "code",
   "execution_count": null,
   "metadata": {
    "_uuid": "bf41b6eb1da7be6786e08378cdcc698e6eba1f41"
   },
   "outputs": [],
   "source": [
    "sub.to_csv('pytorch-densenet201.csv',index=False)"
   ]
  }
 ],
 "metadata": {
  "kernelspec": {
   "display_name": "Python 3",
   "language": "python",
   "name": "python3"
  },
  "language_info": {
   "codemirror_mode": {
    "name": "ipython",
    "version": 3
   },
   "file_extension": ".py",
   "mimetype": "text/x-python",
   "name": "python",
   "nbconvert_exporter": "python",
   "pygments_lexer": "ipython3",
   "version": "3.6.6"
  }
 },
 "nbformat": 4,
 "nbformat_minor": 1
}
